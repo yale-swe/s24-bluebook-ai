{
 "cells": [
  {
   "cell_type": "code",
   "execution_count": null,
   "metadata": {},
   "outputs": [],
   "source": [
    "%pip install openai\n",
    "%pip install python-dotenv\n",
    "%pip install scipy\n",
    "%pip install tenacity\n",
    "%pip install tiktoken\n",
    "%pip install termcolor "
   ]
  },
  {
   "cell_type": "code",
   "execution_count": 1,
   "metadata": {},
   "outputs": [],
   "source": [
    "import os\n",
    "import openai\n",
    "import json\n",
    "from dotenv import load_dotenv\n",
    "load_dotenv()\n",
    "from openai import OpenAI\n",
    "openai.api_key = os.getenv(\"OPENAI_API_KEY\")\n",
    "import json\n",
    "from tenacity import retry, wait_random_exponential, stop_after_attempt\n",
    "from termcolor import colored  \n",
    "from enum import Enum\n",
    "\n",
    "GPT_MODEL = \"gpt-3.5-turbo-0613\"\n",
    "client = OpenAI()"
   ]
  },
  {
   "cell_type": "code",
   "execution_count": 3,
   "metadata": {},
   "outputs": [],
   "source": [
    "@retry(wait=wait_random_exponential(multiplier=1, max=40), stop=stop_after_attempt(3))\n",
    "def chat_completion_request(messages, tools=None, tool_choice=None, model=GPT_MODEL):\n",
    "    try:\n",
    "        response = client.chat.completions.create(\n",
    "            model=model,\n",
    "            messages=messages,\n",
    "            tools=tools,\n",
    "            tool_choice=tool_choice,\n",
    "        )\n",
    "        return response\n",
    "    except Exception as e:\n",
    "        print(\"Unable to generate ChatCompletion response\")\n",
    "        print(f\"Exception: {e}\")\n",
    "        return e\n"
   ]
  },
  {
   "cell_type": "code",
   "execution_count": 4,
   "metadata": {},
   "outputs": [],
   "source": [
    "def pretty_print_conversation(messages):\n",
    "    role_to_color = {\n",
    "        \"system\": \"red\",\n",
    "        \"user\": \"green\",\n",
    "        \"assistant\": \"blue\",\n",
    "        \"function\": \"magenta\",\n",
    "    }\n",
    "    \n",
    "    for message in messages:\n",
    "        if message[\"role\"] == \"system\":\n",
    "            print(colored(f\"system: {message['content']}\\n\", role_to_color[message[\"role\"]]))\n",
    "        elif message[\"role\"] == \"user\":\n",
    "            print(colored(f\"user: {message['content']}\\n\", role_to_color[message[\"role\"]]))\n",
    "        elif message[\"role\"] == \"assistant\" and message.get(\"function_call\"):\n",
    "            print(colored(f\"assistant: {message['function_call']}\\n\", role_to_color[message[\"role\"]]))\n",
    "        elif message[\"role\"] == \"assistant\" and not message.get(\"function_call\"):\n",
    "            print(colored(f\"assistant: {message['content']}\\n\", role_to_color[message[\"role\"]]))\n",
    "        elif message[\"role\"] == \"function\":\n",
    "            print(colored(f\"function ({message['name']}): {message['content']}\\n\", role_to_color[message[\"role\"]]))"
   ]
  },
  {
   "cell_type": "code",
   "execution_count": 41,
   "metadata": {},
   "outputs": [],
   "source": [
    "# --------------------------------------------------------------\n",
    "# Use OpenAI’s Function Calling Feature\n",
    "# --------------------------------------------------------------\n",
    "\n",
    "# Open the JSON file\n",
    "with open('course_subjects.json', 'r') as file:\n",
    "    # Load the JSON data into a Python list\n",
    "    subjects = json.load(file)\n",
    "    \n",
    "tools = [\n",
    "    # {\n",
    "    #     \"type\": \"function\",\n",
    "    #     \"function\": {\n",
    "    #     \"name\": \"filter_by_rating\",\n",
    "    #     \"description\": \"Get a class by its rating (0 - 5). If a number is not provided, interpret their opinion to fit the range (0-5).\", \n",
    "    #     \"parameters\": {\n",
    "    #         \"type\": \"object\",\n",
    "    #         \"properties\": {\n",
    "    #             \"comparison_operator\": {\n",
    "    #                 \"type\": \"string\",\n",
    "    #                 \"enum\": [\"$lt\", \"$gt\", \"$gte\", \"$lte\"],\n",
    "    #                 \"description\": \"A comparison operator\",\n",
    "    #             },\n",
    "    #             \"rating\": {\n",
    "    #                 \"type\": \"number\",\n",
    "    #                 \"description\": \"The rating (a number) for the class\",\n",
    "    #             },\n",
    "    #         },\n",
    "    #         \"required\": [\"comparison_operator\", \"rating\"],\n",
    "    #     },\n",
    "    #     }\n",
    "    # },\n",
    "    \n",
    "    {\n",
    "        \"type\": \"function\",\n",
    "        \"function\": {\n",
    "        \"name\": \"CourseFilter\",\n",
    "        \"description\": \"Provide filters for a course based on conditions.\", \n",
    "        \"parameters\": {\n",
    "            \"type\": \"object\",\n",
    "            \"properties\": {\n",
    "                \"subject_code\": {\n",
    "                    \"type\": \"string\",\n",
    "                    \"enum\": [str(key) for key in subjects.keys()],\n",
    "                    \"description\": \"A code for the subject of instruction\",\n",
    "                },\n",
    "                \"rating\": {\n",
    "                    \"type\": \"number\",\n",
    "                    \"description\": \"The rating (a number with one significant digit) for the class (0 - 4). If a number is not provided, interpret the given opinion to fit the range. A good, or average, class should be 3.5\",\n",
    "                },\n",
    "                \"comparison_operator_rating\": {\n",
    "                    \"type\": \"string\",\n",
    "                    \"enum\": [\"$lt\", \"$gt\", \"$gte\", \"$lte\"],\n",
    "                    \"description\": \"A comparison operator for the class rating\",\n",
    "                },\n",
    "                \"workload\": {\n",
    "                    \"type\": \"number\",\n",
    "                    \"description\": \"The workload (a number with one significant digit) for the class (0 - 4). If a number is not provided, interpret the given opinion to fit the range.\",\n",
    "                },\n",
    "                \"comparison_operator_workload\": {\n",
    "                    \"type\": \"string\",\n",
    "                    \"enum\": [\"$lt\", \"$gt\", \"$gte\", \"$lte\"],\n",
    "                    \"description\": \"A comparison operator for the class workload\",\n",
    "                },\n",
    "                \"comparison_operator_workload\": {\n",
    "                    \"type\": \"string\",\n",
    "                    \"enum\": [\"$lt\", \"$gt\", \"$gte\", \"$lte\"],\n",
    "                    \"description\": \"A comparison operator for the class workload\",\n",
    "                },\n",
    "                \n",
    "            },\n",
    "            \"required\": [\"comparison_operator\", \"rating\"],\n",
    "        },\n",
    "        }\n",
    "    }\n",
    "]"
   ]
  },
  {
   "cell_type": "code",
   "execution_count": 42,
   "metadata": {},
   "outputs": [
    {
     "name": "stdout",
     "output_type": "stream",
     "text": [
      "Unable to generate ChatCompletion response\n",
      "Exception: Error code: 400 - {'error': {'message': \"Invalid schema for function 'CourseFilter': 'ACCT,USAF,AFAM,AFST,AKKD,ASL,AMST,GREK,ANTH,AMTH,APHY,ARBC,ARCG,ARCH,ARMN,ART,ASTR,BNGL,B&BS,BIOL,BENG,BIS,BRST,BURM,C&MP,CBIO,CENG,CHEM,CHER,CHLD,CHNS,CDE,CLCV,CLSS,MEDR,CGSC,CSYC,CSBF,CSBK,CSBR,CSDC,CSES,CSGH,CSJE,CSMC,CSMY,CSPC,CSSY,CSSM,CSTD,CSTC,CB&B,CPLT,CPSC,CSEC,CPAR,MEDC,CZEC,DEVN,DRST,DIR,DISR,DRAM,DRMA,DUTC,EMST,EPS,EALL,EAST,E&EB,ECON,EDST,EGYP,EENG,ENRG,ENAS,ENGL,ELP,ENV,ENVE,EHS,EVST,EPH,EMD,EP&E,ER&M,E&RS,EXCH,EXPA,FILM,FNSH,F&ES,FREN,GENE,G&G,GMAN,GLBL,HPM,HLTH,HEBR,HNDI,HSHM,HIST,HSAR,HMRT,HUMS,HGRN,IBIO,IDRS,INDN,INP,IMED,ITAL,JAPN,JDST,KHMR,SWAH,KREN,LATN,LAST,LAW,LING,LITR,MGT,MGMT,MRES,MHHR,MATH,MENG,MDVL,MESO,MBIO,MGRK,MMES,MTBT,MB&B,MCDB,MUSI,NAVY,NELC,NPLI,NSCI,NURS,OTTM,PATH,PERS,PHAR,PHIL,OLPA,PA,PHYS,PLSH,PLSC,PORT,PRAC,CAND,QUAL,PSYC,PHUM,PNJB,REL,RLST,RNST,ROMN,RUSS,RSEE,SKRT,MD,MUS,SCIE,SMTC,SBCR,SNHL,SLAV,SBS,SOCY,SAST,SPAN,SPEC,STRT,S&DS,STEV,STCY,SUMR,SWED,TAML,THST,TBTN,PTB,TKSH,TWI,UKRN,URBN,VIET,VAIR,WLOF,WGSS,YDSH,YORU,ZULU' is not of type 'array'\", 'type': 'invalid_request_error', 'param': None, 'code': None}}\n"
     ]
    },
    {
     "ename": "AttributeError",
     "evalue": "'BadRequestError' object has no attribute 'choices'",
     "output_type": "error",
     "traceback": [
      "\u001b[0;31m---------------------------------------------------------------------------\u001b[0m",
      "\u001b[0;31mAttributeError\u001b[0m                            Traceback (most recent call last)",
      "Cell \u001b[0;32mIn[42], line 7\u001b[0m\n\u001b[1;32m      3\u001b[0m messages\u001b[39m.\u001b[39mappend({\u001b[39m\"\u001b[39m\u001b[39mrole\u001b[39m\u001b[39m\"\u001b[39m: \u001b[39m\"\u001b[39m\u001b[39muser\u001b[39m\u001b[39m\"\u001b[39m, \u001b[39m\"\u001b[39m\u001b[39mcontent\u001b[39m\u001b[39m\"\u001b[39m: \u001b[39m\"\u001b[39m\u001b[39mGive me a good and easy CS class\u001b[39m\u001b[39m\"\u001b[39m})\n\u001b[1;32m      4\u001b[0m chat_response \u001b[39m=\u001b[39m chat_completion_request(\n\u001b[1;32m      5\u001b[0m     messages, tools\u001b[39m=\u001b[39mtools\n\u001b[1;32m      6\u001b[0m )\n\u001b[0;32m----> 7\u001b[0m assistant_message \u001b[39m=\u001b[39m chat_response\u001b[39m.\u001b[39;49mchoices[\u001b[39m0\u001b[39m]\u001b[39m.\u001b[39mmessage\n\u001b[1;32m      8\u001b[0m messages\u001b[39m.\u001b[39mappend(assistant_message)\n\u001b[1;32m      9\u001b[0m assistant_message\u001b[39m.\u001b[39mtool_calls[\u001b[39m0\u001b[39m]\u001b[39m.\u001b[39mfunction\u001b[39m.\u001b[39marguments\n",
      "\u001b[0;31mAttributeError\u001b[0m: 'BadRequestError' object has no attribute 'choices'"
     ]
    }
   ],
   "source": [
    "messages = []\n",
    "messages.append({\"role\": \"system\", \"content\": \"Don't make assumptions about what values to plug into functions. Ask for clarification if a user request is ambiguous.\"})\n",
    "messages.append({\"role\": \"user\", \"content\": \"Give me a good and easy CS class\"})\n",
    "chat_response = chat_completion_request(\n",
    "    messages, tools=tools\n",
    ")\n",
    "assistant_message = chat_response.choices[0].message\n",
    "messages.append(assistant_message)\n",
    "assistant_message.tool_calls[0].function.arguments\n"
   ]
  },
  {
   "cell_type": "code",
   "execution_count": 32,
   "metadata": {},
   "outputs": [
    {
     "name": "stdout",
     "output_type": "stream",
     "text": [
      "{\n",
      "  \"subject_code\": \"CPSC\",\n",
      "  \"rating\": 4,\n",
      "  \"comparison_operator_rating\": \"$gte\",\n",
      "  \"workload\": 2,\n",
      "  \"comparison_operator_workload\": \"$lte\"\n",
      "}\n"
     ]
    }
   ],
   "source": [
    "print(assistant_message.tool_calls[0].function.arguments)"
   ]
  }
 ],
 "metadata": {
  "kernelspec": {
   "display_name": "Python 3",
   "language": "python",
   "name": "python3"
  },
  "language_info": {
   "codemirror_mode": {
    "name": "ipython",
    "version": 3
   },
   "file_extension": ".py",
   "mimetype": "text/x-python",
   "name": "python",
   "nbconvert_exporter": "python",
   "pygments_lexer": "ipython3",
   "version": "3.12.2"
  },
  "orig_nbformat": 4
 },
 "nbformat": 4,
 "nbformat_minor": 2
}
